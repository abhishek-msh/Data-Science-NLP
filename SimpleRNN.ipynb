{
  "nbformat": 4,
  "nbformat_minor": 0,
  "metadata": {
    "colab": {
      "provenance": [],
      "authorship_tag": "ABX9TyNAU0GyAgHvb6rrTP4BZhPn",
      "include_colab_link": true
    },
    "kernelspec": {
      "name": "python3",
      "display_name": "Python 3"
    },
    "language_info": {
      "name": "python"
    },
    "accelerator": "GPU",
    "gpuClass": "standard"
  },
  "cells": [
    {
      "cell_type": "markdown",
      "metadata": {
        "id": "view-in-github",
        "colab_type": "text"
      },
      "source": [
        "<a href=\"https://colab.research.google.com/github/akshatjain2k/Data-Science-NLP/blob/Amey/SimpleRNN.ipynb\" target=\"_parent\"><img src=\"https://colab.research.google.com/assets/colab-badge.svg\" alt=\"Open In Colab\"/></a>"
      ]
    },
    {
      "cell_type": "code",
      "execution_count": 1,
      "metadata": {
        "id": "fbVmiKiY47go"
      },
      "outputs": [],
      "source": [
        "import torch\n",
        "from torch import nn\n",
        "import numpy as np"
      ]
    },
    {
      "cell_type": "code",
      "source": [
        "text = ['hey how are you','good i am fine','have a nice day']\n",
        "\n",
        "# All Caharcters\n",
        "chars = set(''.join(text))\n",
        "\n",
        "int2char = dict(enumerate(chars))\n",
        "\n",
        "char2int = {char: i for i, char in int2char.items()}\n",
        "char2int"
      ],
      "metadata": {
        "colab": {
          "base_uri": "https://localhost:8080/"
        },
        "id": "kr_bZxW-5kx0",
        "outputId": "5d920be2-fa11-4ef7-f5d8-62ceeb080209"
      },
      "execution_count": 2,
      "outputs": [
        {
          "output_type": "execute_result",
          "data": {
            "text/plain": [
              "{'i': 0,\n",
              " 'm': 1,\n",
              " 'a': 2,\n",
              " 'e': 3,\n",
              " 'h': 4,\n",
              " 'y': 5,\n",
              " 'w': 6,\n",
              " 'c': 7,\n",
              " 'n': 8,\n",
              " ' ': 9,\n",
              " 'v': 10,\n",
              " 'o': 11,\n",
              " 'r': 12,\n",
              " 'u': 13,\n",
              " 'g': 14,\n",
              " 'd': 15,\n",
              " 'f': 16}"
            ]
          },
          "metadata": {},
          "execution_count": 2
        }
      ]
    },
    {
      "cell_type": "markdown",
      "source": [
        "## Padding"
      ],
      "metadata": {
        "id": "HyN2CtzkPFrZ"
      }
    },
    {
      "cell_type": "code",
      "source": [
        "# Finding Longest sequence\n",
        "maxlen = len(max(text,key =len))\n",
        "maxlen"
      ],
      "metadata": {
        "colab": {
          "base_uri": "https://localhost:8080/"
        },
        "id": "oSXsG-y5NyD0",
        "outputId": "dd1c370b-ab98-4d98-c084-4d14c62be778"
      },
      "execution_count": 3,
      "outputs": [
        {
          "output_type": "execute_result",
          "data": {
            "text/plain": [
              "15"
            ]
          },
          "metadata": {},
          "execution_count": 3
        }
      ]
    },
    {
      "cell_type": "code",
      "source": [
        "# Adding ' ' until it matches the maxlen\n",
        "for i in range(len(text)):\n",
        "  while len(text[i])<maxlen:\n",
        "    text[i] = text[i] + ' '"
      ],
      "metadata": {
        "id": "hWROG7MbOSIi"
      },
      "execution_count": 4,
      "outputs": []
    },
    {
      "cell_type": "code",
      "source": [
        "text"
      ],
      "metadata": {
        "colab": {
          "base_uri": "https://localhost:8080/"
        },
        "id": "sF5yHc57P2DZ",
        "outputId": "95d52c59-9258-48ba-83c3-1c1a4a362d27"
      },
      "execution_count": 5,
      "outputs": [
        {
          "output_type": "execute_result",
          "data": {
            "text/plain": [
              "['hey how are you', 'good i am fine ', 'have a nice day']"
            ]
          },
          "metadata": {},
          "execution_count": 5
        }
      ]
    },
    {
      "cell_type": "code",
      "source": [
        "# Input & Target split\n",
        "\n",
        "input_seq = []\n",
        "target_seq = []\n",
        "\n",
        "for i in range(len(text)):\n",
        "  input_seq.append(text[i][:-1])\n",
        "\n",
        "for i in range(len(text)):\n",
        "  target_seq.append(text[i][1:])"
      ],
      "metadata": {
        "id": "wO6b2C8wP30f"
      },
      "execution_count": 6,
      "outputs": []
    },
    {
      "cell_type": "code",
      "source": [
        "input_seq , target_seq"
      ],
      "metadata": {
        "colab": {
          "base_uri": "https://localhost:8080/"
        },
        "id": "cASKLq4TQfh1",
        "outputId": "0c9223a5-3502-4be5-bde1-509d6f790dbc"
      },
      "execution_count": 7,
      "outputs": [
        {
          "output_type": "execute_result",
          "data": {
            "text/plain": [
              "(['hey how are yo', 'good i am fine', 'have a nice da'],\n",
              " ['ey how are you', 'ood i am fine ', 'ave a nice day'])"
            ]
          },
          "metadata": {},
          "execution_count": 7
        }
      ]
    },
    {
      "cell_type": "markdown",
      "source": [
        "## One hot Encoding"
      ],
      "metadata": {
        "id": "LLtEBbV2RNN8"
      }
    },
    {
      "cell_type": "code",
      "source": [
        "for i in range(len(text)):\n",
        "  input_seq[i] = [char2int[char] for char in input_seq[i]]\n",
        "  target_seq[i] = [char2int[char] for char in target_seq[i]]"
      ],
      "metadata": {
        "id": "x7ab60vGQg8c"
      },
      "execution_count": 8,
      "outputs": []
    },
    {
      "cell_type": "code",
      "source": [
        "input_seq , target_seq"
      ],
      "metadata": {
        "colab": {
          "base_uri": "https://localhost:8080/"
        },
        "id": "qjmpQpGBRiox",
        "outputId": "a81c0787-3e30-419f-e048-7658aac1a7af"
      },
      "execution_count": 9,
      "outputs": [
        {
          "output_type": "execute_result",
          "data": {
            "text/plain": [
              "([[4, 3, 5, 9, 4, 11, 6, 9, 2, 12, 3, 9, 5, 11],\n",
              "  [14, 11, 11, 15, 9, 0, 9, 2, 1, 9, 16, 0, 8, 3],\n",
              "  [4, 2, 10, 3, 9, 2, 9, 8, 0, 7, 3, 9, 15, 2]],\n",
              " [[3, 5, 9, 4, 11, 6, 9, 2, 12, 3, 9, 5, 11, 13],\n",
              "  [11, 11, 15, 9, 0, 9, 2, 1, 9, 16, 0, 8, 3, 9],\n",
              "  [2, 10, 3, 9, 2, 9, 8, 0, 7, 3, 9, 15, 2, 5]])"
            ]
          },
          "metadata": {},
          "execution_count": 9
        }
      ]
    },
    {
      "cell_type": "code",
      "source": [
        "# Vocabulary\n",
        "vocab = len(char2int)\n",
        "\n",
        "# Same for all\n",
        "seq_len = maxlen-1\n",
        "\n",
        "# number of sentences\n",
        "batch_size = len(text)"
      ],
      "metadata": {
        "id": "17EWp825Rkc4"
      },
      "execution_count": 10,
      "outputs": []
    },
    {
      "cell_type": "code",
      "source": [
        "def one_hot_encode(sequence, vocab, seq_len, batch_size):\n",
        "    # Creating a multi-dimensional array of zeros\n",
        "    features = np.zeros((batch_size, seq_len, vocab), dtype=np.float32)\n",
        "\n",
        "    # Replacing 0 at character index to 1\n",
        "    for i in range(batch_size):\n",
        "      for u in range(seq_len):\n",
        "        features[i, u, sequence[i][u]] = 1\n",
        "    return features\n"
      ],
      "metadata": {
        "id": "QGjg-UT8SoNC"
      },
      "execution_count": 11,
      "outputs": []
    },
    {
      "cell_type": "code",
      "source": [
        "input_seq = one_hot_encode(input_seq,vocab,seq_len,batch_size)\n",
        "input_seq"
      ],
      "metadata": {
        "colab": {
          "base_uri": "https://localhost:8080/"
        },
        "id": "hEcwxjngSpNL",
        "outputId": "d9c66f87-13d0-4917-e12c-f1c82295ea63"
      },
      "execution_count": 12,
      "outputs": [
        {
          "output_type": "execute_result",
          "data": {
            "text/plain": [
              "array([[[0., 0., 0., 0., 1., 0., 0., 0., 0., 0., 0., 0., 0., 0., 0., 0.,\n",
              "         0.],\n",
              "        [0., 0., 0., 1., 0., 0., 0., 0., 0., 0., 0., 0., 0., 0., 0., 0.,\n",
              "         0.],\n",
              "        [0., 0., 0., 0., 0., 1., 0., 0., 0., 0., 0., 0., 0., 0., 0., 0.,\n",
              "         0.],\n",
              "        [0., 0., 0., 0., 0., 0., 0., 0., 0., 1., 0., 0., 0., 0., 0., 0.,\n",
              "         0.],\n",
              "        [0., 0., 0., 0., 1., 0., 0., 0., 0., 0., 0., 0., 0., 0., 0., 0.,\n",
              "         0.],\n",
              "        [0., 0., 0., 0., 0., 0., 0., 0., 0., 0., 0., 1., 0., 0., 0., 0.,\n",
              "         0.],\n",
              "        [0., 0., 0., 0., 0., 0., 1., 0., 0., 0., 0., 0., 0., 0., 0., 0.,\n",
              "         0.],\n",
              "        [0., 0., 0., 0., 0., 0., 0., 0., 0., 1., 0., 0., 0., 0., 0., 0.,\n",
              "         0.],\n",
              "        [0., 0., 1., 0., 0., 0., 0., 0., 0., 0., 0., 0., 0., 0., 0., 0.,\n",
              "         0.],\n",
              "        [0., 0., 0., 0., 0., 0., 0., 0., 0., 0., 0., 0., 1., 0., 0., 0.,\n",
              "         0.],\n",
              "        [0., 0., 0., 1., 0., 0., 0., 0., 0., 0., 0., 0., 0., 0., 0., 0.,\n",
              "         0.],\n",
              "        [0., 0., 0., 0., 0., 0., 0., 0., 0., 1., 0., 0., 0., 0., 0., 0.,\n",
              "         0.],\n",
              "        [0., 0., 0., 0., 0., 1., 0., 0., 0., 0., 0., 0., 0., 0., 0., 0.,\n",
              "         0.],\n",
              "        [0., 0., 0., 0., 0., 0., 0., 0., 0., 0., 0., 1., 0., 0., 0., 0.,\n",
              "         0.]],\n",
              "\n",
              "       [[0., 0., 0., 0., 0., 0., 0., 0., 0., 0., 0., 0., 0., 0., 1., 0.,\n",
              "         0.],\n",
              "        [0., 0., 0., 0., 0., 0., 0., 0., 0., 0., 0., 1., 0., 0., 0., 0.,\n",
              "         0.],\n",
              "        [0., 0., 0., 0., 0., 0., 0., 0., 0., 0., 0., 1., 0., 0., 0., 0.,\n",
              "         0.],\n",
              "        [0., 0., 0., 0., 0., 0., 0., 0., 0., 0., 0., 0., 0., 0., 0., 1.,\n",
              "         0.],\n",
              "        [0., 0., 0., 0., 0., 0., 0., 0., 0., 1., 0., 0., 0., 0., 0., 0.,\n",
              "         0.],\n",
              "        [1., 0., 0., 0., 0., 0., 0., 0., 0., 0., 0., 0., 0., 0., 0., 0.,\n",
              "         0.],\n",
              "        [0., 0., 0., 0., 0., 0., 0., 0., 0., 1., 0., 0., 0., 0., 0., 0.,\n",
              "         0.],\n",
              "        [0., 0., 1., 0., 0., 0., 0., 0., 0., 0., 0., 0., 0., 0., 0., 0.,\n",
              "         0.],\n",
              "        [0., 1., 0., 0., 0., 0., 0., 0., 0., 0., 0., 0., 0., 0., 0., 0.,\n",
              "         0.],\n",
              "        [0., 0., 0., 0., 0., 0., 0., 0., 0., 1., 0., 0., 0., 0., 0., 0.,\n",
              "         0.],\n",
              "        [0., 0., 0., 0., 0., 0., 0., 0., 0., 0., 0., 0., 0., 0., 0., 0.,\n",
              "         1.],\n",
              "        [1., 0., 0., 0., 0., 0., 0., 0., 0., 0., 0., 0., 0., 0., 0., 0.,\n",
              "         0.],\n",
              "        [0., 0., 0., 0., 0., 0., 0., 0., 1., 0., 0., 0., 0., 0., 0., 0.,\n",
              "         0.],\n",
              "        [0., 0., 0., 1., 0., 0., 0., 0., 0., 0., 0., 0., 0., 0., 0., 0.,\n",
              "         0.]],\n",
              "\n",
              "       [[0., 0., 0., 0., 1., 0., 0., 0., 0., 0., 0., 0., 0., 0., 0., 0.,\n",
              "         0.],\n",
              "        [0., 0., 1., 0., 0., 0., 0., 0., 0., 0., 0., 0., 0., 0., 0., 0.,\n",
              "         0.],\n",
              "        [0., 0., 0., 0., 0., 0., 0., 0., 0., 0., 1., 0., 0., 0., 0., 0.,\n",
              "         0.],\n",
              "        [0., 0., 0., 1., 0., 0., 0., 0., 0., 0., 0., 0., 0., 0., 0., 0.,\n",
              "         0.],\n",
              "        [0., 0., 0., 0., 0., 0., 0., 0., 0., 1., 0., 0., 0., 0., 0., 0.,\n",
              "         0.],\n",
              "        [0., 0., 1., 0., 0., 0., 0., 0., 0., 0., 0., 0., 0., 0., 0., 0.,\n",
              "         0.],\n",
              "        [0., 0., 0., 0., 0., 0., 0., 0., 0., 1., 0., 0., 0., 0., 0., 0.,\n",
              "         0.],\n",
              "        [0., 0., 0., 0., 0., 0., 0., 0., 1., 0., 0., 0., 0., 0., 0., 0.,\n",
              "         0.],\n",
              "        [1., 0., 0., 0., 0., 0., 0., 0., 0., 0., 0., 0., 0., 0., 0., 0.,\n",
              "         0.],\n",
              "        [0., 0., 0., 0., 0., 0., 0., 1., 0., 0., 0., 0., 0., 0., 0., 0.,\n",
              "         0.],\n",
              "        [0., 0., 0., 1., 0., 0., 0., 0., 0., 0., 0., 0., 0., 0., 0., 0.,\n",
              "         0.],\n",
              "        [0., 0., 0., 0., 0., 0., 0., 0., 0., 1., 0., 0., 0., 0., 0., 0.,\n",
              "         0.],\n",
              "        [0., 0., 0., 0., 0., 0., 0., 0., 0., 0., 0., 0., 0., 0., 0., 1.,\n",
              "         0.],\n",
              "        [0., 0., 1., 0., 0., 0., 0., 0., 0., 0., 0., 0., 0., 0., 0., 0.,\n",
              "         0.]]], dtype=float32)"
            ]
          },
          "metadata": {},
          "execution_count": 12
        }
      ]
    },
    {
      "cell_type": "code",
      "source": [
        "input_seq = torch.from_numpy(input_seq)\n",
        "target_seq = torch.Tensor(target_seq)"
      ],
      "metadata": {
        "id": "o3ofRE5HTpiy"
      },
      "execution_count": 13,
      "outputs": []
    },
    {
      "cell_type": "code",
      "source": [
        "is_cuda = torch.cuda.is_available()\n",
        "device = torch.device(\"cuda\")"
      ],
      "metadata": {
        "id": "_LAixssvVGdM"
      },
      "execution_count": 14,
      "outputs": []
    },
    {
      "cell_type": "code",
      "source": [
        "class Model(nn.Module):\n",
        "  def __init__(self, input_size, output_size, hidden_dim, n_layers):\n",
        "    super(Model, self).__init__()\n",
        "\n",
        "    self.hidden_dim = hidden_dim\n",
        "    self.n_layers = n_layers\n",
        "\n",
        "    # RNN layer\n",
        "    self.rnn = nn.RNN(input_size,hidden_dim,n_layers,batch_first=True)\n",
        "\n",
        "    # Fully Connected Layer\n",
        "    self.fc = nn.Linear(hidden_dim,output_size)\n",
        "\n",
        "  def forward(self,x):\n",
        "    batch_size = x.size(0)\n",
        "\n",
        "    hidden = self.init_hidden(batch_size)\n",
        "\n",
        "    out, hidden = self.rnn(x,hidden)\n",
        "\n",
        "    out = out.contiguous().view(-1,self.hidden_dim)\n",
        "    out = self.fc(out)\n",
        "\n",
        "    return out,hidden\n",
        "\n",
        "  def init_hidden(self, batch_size):\n",
        "    hidden = torch.zeros(self.n_layers, batch_size, self.hidden_dim)\n",
        "    return hidden\n",
        "\n",
        "      "
      ],
      "metadata": {
        "id": "DkYuj6RIYzHv"
      },
      "execution_count": 15,
      "outputs": []
    },
    {
      "cell_type": "code",
      "source": [
        "# Instantiate the model\n",
        "model = Model(input_size=vocab, output_size=vocab, hidden_dim=12, n_layers=1)\n",
        "\n",
        "# Define hyperparameters\n",
        "n_epochs = 200\n",
        "lr=0.01\n",
        "\n",
        "# Define Loss, Optimizer\n",
        "criterion = nn.CrossEntropyLoss()\n",
        "optimizer = torch.optim.Adam(model.parameters(), lr=lr)"
      ],
      "metadata": {
        "id": "Q8a-p-OIjY1n"
      },
      "execution_count": 16,
      "outputs": []
    },
    {
      "cell_type": "code",
      "source": [
        "# Training\n",
        "for epoch in range(1, n_epochs + 1):\n",
        "    # Clears existing gradients from previous epoch\n",
        "    optimizer.zero_grad()\n",
        "    input_seq.to(device)\n",
        "    output, hidden = model(input_seq)\n",
        "    loss = criterion(output, target_seq.view(-1).long())\n",
        "    # Does backpropagation and calculates gradients\n",
        "    loss.backward()\n",
        "    # Updates the weights \n",
        "    optimizer.step() \n",
        "    \n",
        "    if epoch%10 == 0:\n",
        "        print('Epoch: {}/{}.............'.format(epoch, n_epochs), end=' ')\n",
        "        print(\"Loss: {}\".format(loss.item()))"
      ],
      "metadata": {
        "colab": {
          "base_uri": "https://localhost:8080/"
        },
        "id": "rdbPeNqskn7v",
        "outputId": "7744f644-59b9-4304-8240-dd8b40dacf03"
      },
      "execution_count": 17,
      "outputs": [
        {
          "output_type": "stream",
          "name": "stdout",
          "text": [
            "Epoch: 10/200............. Loss: 2.442443370819092\n",
            "Epoch: 20/200............. Loss: 2.0461201667785645\n",
            "Epoch: 30/200............. Loss: 1.6283056735992432\n",
            "Epoch: 40/200............. Loss: 1.2083864212036133\n",
            "Epoch: 50/200............. Loss: 0.8466749787330627\n",
            "Epoch: 60/200............. Loss: 0.5810109972953796\n",
            "Epoch: 70/200............. Loss: 0.40184617042541504\n",
            "Epoch: 80/200............. Loss: 0.2845492660999298\n",
            "Epoch: 90/200............. Loss: 0.2101481556892395\n",
            "Epoch: 100/200............. Loss: 0.16252335906028748\n",
            "Epoch: 110/200............. Loss: 0.13149338960647583\n",
            "Epoch: 120/200............. Loss: 0.11070019751787186\n",
            "Epoch: 130/200............. Loss: 0.09623147547245026\n",
            "Epoch: 140/200............. Loss: 0.08580297976732254\n",
            "Epoch: 150/200............. Loss: 0.07802615314722061\n",
            "Epoch: 160/200............. Loss: 0.07204810529947281\n",
            "Epoch: 170/200............. Loss: 0.06733028590679169\n",
            "Epoch: 180/200............. Loss: 0.06357487291097641\n",
            "Epoch: 190/200............. Loss: 0.060830384492874146\n",
            "Epoch: 200/200............. Loss: 0.0581398531794548\n"
          ]
        }
      ]
    },
    {
      "cell_type": "code",
      "source": [],
      "metadata": {
        "id": "2SiS8pd88wu6"
      },
      "execution_count": 17,
      "outputs": []
    }
  ]
}